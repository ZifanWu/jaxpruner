{
  "cells": [
    {
      "cell_type": "code",
      "execution_count": null,
      "metadata": {
        "id": "mkGWa2uFTt3y"
      },
      "outputs": [],
      "source": [
        "#@title LICENSE\n",
        "# Licensed under the Apache License, Version 2.0"
      ]
    },
    {
      "cell_type": "markdown",
      "metadata": {
        "id": "98hGCPXNPv1u"
      },
      "source": [
        "[![Open In Colab](https://colab.research.google.com/assets/colab-badge.svg)](https://colab.research.google.com/github/google-research/jaxpruner/blob/main/colabs/sparse_model_vit.ipynb)"
      ]
    },
    {
      "cell_type": "code",
      "execution_count": null,
      "metadata": {
        "id": "eeZEadtTPGIu"
      },
      "outputs": [],
      "source": [
        "import jax\n",
        "import jax.numpy as jnp\n",
        "import functools\n",
        "from jax.experimental import sparse\n",
        "import flax\n",
        "\n",
        "from scenic.projects.baselines.configs.imagenet import imagenet_vit_config\n",
        "from scenic.model_lib import models\n",
        "from scenic.train_lib import pretrain_utils\n",
        "from scenic.train_lib import train_utils"
      ]
    },
    {
      "cell_type": "code",
      "execution_count": null,
      "metadata": {
        "id": "fV-SnAj4njuI"
      },
      "outputs": [],
      "source": [
        "# Get model configs.\n",
        "config = imagenet_vit_config.get_config()\n",
        "dataset_meta_data = {\n",
        "    'input_dtype': jax.numpy.float32,\n",
        "    'input_shape': (-1, 224, 224, 3),\n",
        "    'num_classes': 1000,\n",
        "    'num_eval_examples': 50000,\n",
        "    'num_train_examples': 1281167,\n",
        "    'target_is_onehot': False}\n",
        "\n",
        "model_cls = models.get_model_cls(config.model_name)\n",
        "model = model_cls(config, dataset_meta_data)"
      ]
    },
    {
      "cell_type": "code",
      "execution_count": null,
      "metadata": {
        "id": "CtRgFDAHoDVX"
      },
      "outputs": [],
      "source": [
        "# Initialize model.\n",
        "rng, init_rng = jax.random.split(jax.random.PRNGKey(8))\n",
        "rng, init_rng = jax.random.split(rng)\n",
        "placeholder_input = jnp.ones((1, 224, 224, 3))\n",
        "\n",
        "@functools.partial(jax.jit, backend='cpu')\n",
        "def _initialize_model(rngs):\n",
        "  \"\"\"Initialization function to be jitted.\"\"\"\n",
        "  init_params = model.flax_model.init(\n",
        "      rngs, placeholder_input, train=False, debug=False).pop('params')\n",
        "  return init_params\n",
        "\n",
        "init_params = _initialize_model({'params': init_rng})"
      ]
    },
    {
      "cell_type": "code",
      "execution_count": null,
      "metadata": {
        "id": "727-FiLrjgnx"
      },
      "outputs": [],
      "source": [
        "initial_train_state = train_utils.TrainState(\n",
        "    global_step=0,\n",
        "    params=init_params,\n",
        "    model_state={},\n",
        "    rng=rng)"
      ]
    },
    {
      "cell_type": "code",
      "execution_count": null,
      "metadata": {
        "id": "lF7_m2IVoGTC"
      },
      "outputs": [],
      "source": [
        "# @title Restore model from given checkpoint\n",
        "init_checkpoint_path = \"\" # @param {type:\"string\"}"
      ]
    },
    {
      "cell_type": "code",
      "execution_count": null,
      "metadata": {
        "id": "kpX_FbyEUFaY"
      },
      "outputs": [],
      "source": [
        "if init_checkpoint_path:\n",
        "  restored_train_state = pretrain_utils.restore_pretrained_checkpoint(\n",
        "      init_checkpoint_path, initial_train_state, assert_exist=True)\n",
        "  dense_params = restored_train_state.params\n",
        "  dense_dict = flax.traverse_util.flatten_dict(dense_params)\n",
        "else:\n",
        "  # If checkpoint is not given,\n",
        "  # set params to random array where 90% of the elements are 0.\n",
        "  dense_dict = {}\n",
        "  rng = jax.random.PRNGKey(0)\n",
        "  for k, p in flax.traverse_util.flatten_dict(initial_train_state.params).items():\n",
        "    rng, cur_rng = jax.random.split(rng)\n",
        "    dense_arr = jax.random.uniform(cur_rng, shape=p.shape, dtype=p.dtype)\n",
        "    dense_arr = jnp.where(dense_arr \u003c 0.9, 0, dense_arr)\n",
        "    dense_dict[k] = dense_arr\n",
        "  dense_params = flax.traverse_util.unflatten_dict(dense_dict)"
      ]
    },
    {
      "cell_type": "code",
      "execution_count": null,
      "metadata": {
        "id": "4ePl7nsPpqaH"
      },
      "outputs": [],
      "source": [
        "# Sparsify model.\n",
        "def filtered_bcoo_simple(key, param):\n",
        "  if key[-1] == 'kernel' and 4 \u003e param.ndim \u003e 1:\n",
        "    return sparse.BCOO.fromdense(param)\n",
        "  else:\n",
        "    return param\n",
        "\n",
        "sparse_dict = {}\n",
        "for k, p in dense_dict.items():\n",
        "  sparse_dict[k] = filtered_bcoo_simple(k, p)\n",
        "\n",
        "sparse_params = flax.traverse_util.unflatten_dict(sparse_dict)"
      ]
    },
    {
      "cell_type": "code",
      "execution_count": null,
      "metadata": {
        "id": "4oLXt8rVqetj"
      },
      "outputs": [],
      "source": [
        "variables = {'params': dense_params}\n",
        "def dense_model_fwd(x):\n",
        "  return model.flax_model.apply(variables, x, train=False)\n",
        "\n",
        "sparse_apply = sparse.sparsify(model.flax_model.apply)\n",
        "sp_variables = {'params': sparse_params}\n",
        "def sparse_model_fwd(x):\n",
        "  return sparse_apply(sp_variables, x, train=False)"
      ]
    },
    {
      "cell_type": "code",
      "execution_count": null,
      "metadata": {
        "id": "yjDMHr3BZr6H"
      },
      "outputs": [],
      "source": [
        "x = jnp.ones((1, 224, 224, 3))\n",
        "\n",
        "# Execution time comparison\n",
        "%timeit dense_res = dense_model_fwd(x).block_until_ready()\n",
        "%timeit sparse_res = sparse_model_fwd(x).block_until_ready()\n",
        "\n",
        "# Max numerical diff\n",
        "jnp.max(jnp.abs(dense_model_fwd(x) - sparse_model_fwd(x)))"
      ]
    }
  ],
  "metadata": {
    "colab": {
      "last_runtime": {
        "build_target": "//learning/multipod/pax/lm/params/ulm/experimental/quantization:colab_notebook",
        "kind": "private"
      },
      "private_outputs": true,
      "provenance": []
    },
    "kernelspec": {
      "display_name": "Python 3",
      "name": "python3"
    },
    "language_info": {
      "name": "python"
    }
  },
  "nbformat": 4,
  "nbformat_minor": 0
}
