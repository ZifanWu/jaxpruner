{
  "cells": [
    {
      "cell_type": "code",
      "execution_count": null,
      "metadata": {
        "cellView": "form",
        "id": "ScyDt14r8MLU"
      },
      "outputs": [],
      "source": [
        "#@title LICENSE\n",
        "# Licensed under the Apache License, Version 2.0"
      ]
    },
    {
      "cell_type": "markdown",
      "metadata": {
        "id": "-BS3RFRLRotm"
      },
      "source": [
        "[![Open In Colab](https://colab.research.google.com/assets/colab-badge.svg)](https://colab.research.google.com/github/google-research/jaxpruner/blob/main/colabs/mnist_pruning.ipynb)"
      ]
    },
    {
      "cell_type": "markdown",
      "metadata": {
        "id": "Tt0rL4ycp4ZB"
      },
      "source": [
        "## Imports / Helpers"
      ]
    },
    {
      "cell_type": "code",
      "execution_count": null,
      "metadata": {
        "id": "EdzHCJuop4ZB"
      },
      "outputs": [],
      "source": [
        "from absl import logging\n",
        "import flax\n",
        "import jax.numpy as jnp\n",
        "from matplotlib import pyplot as plt\n",
        "import numpy as np\n",
        "import tensorflow_datasets as tfds\n",
        "from flax import linen as nn\n",
        "from flax.metrics import tensorboard\n",
        "from flax.training import train_state\n",
        "import jax\n",
        "import optax\n",
        "import tensorflow as tf\n",
        "# Hide any GPUs form TensorFlow. Otherwise TF might reserve memory and make\n",
        "# it unavailable to JAX.\n",
        "tf.config.experimental.set_visible_devices([], \"GPU\")\n",
        "\n",
        "\n",
        "logging.set_verbosity(logging.INFO)"
      ]
    },
    {
      "cell_type": "code",
      "execution_count": null,
      "metadata": {
        "id": "AKD2Zjfv8YnK"
      },
      "outputs": [],
      "source": [
        "!pip3 install git+https://github.com/google-research/jaxpruner\n",
        "import jaxpruner\n",
        "import ml_collections"
      ]
    },
    {
      "cell_type": "markdown",
      "metadata": {
        "id": "gGi7zcRpp4ZL"
      },
      "source": [
        "## Dataset"
      ]
    },
    {
      "cell_type": "code",
      "execution_count": null,
      "metadata": {
        "id": "J7zXhAmXhfHt"
      },
      "outputs": [],
      "source": [
        "def get_datasets():\n",
        "  \"\"\"Load MNIST train and test datasets into memory.\"\"\"\n",
        "  ds_builder = tfds.builder('mnist')\n",
        "  ds_builder.download_and_prepare()\n",
        "  train_ds = tfds.as_numpy(ds_builder.as_dataset(split='train', batch_size=-1))\n",
        "  test_ds = tfds.as_numpy(ds_builder.as_dataset(split='test', batch_size=-1))\n",
        "  train_ds['image'] = jnp.float32(train_ds['image']) / 255.\n",
        "  test_ds['image'] = jnp.float32(test_ds['image']) / 255.\n",
        "  return train_ds, test_ds\n",
        "\n",
        "# Helper functions for images.\n",
        "\n",
        "def show_img(img, ax=None, title=None):\n",
        "  \"\"\"Shows a single image.\"\"\"\n",
        "  if ax is None:\n",
        "    ax = plt.gca()\n",
        "  ax.imshow(img[..., 0], cmap='gray')\n",
        "  ax.set_xticks([])\n",
        "  ax.set_yticks([])\n",
        "  if title:\n",
        "    ax.set_title(title)\n",
        "\n",
        "def show_img_grid(imgs, titles):\n",
        "  \"\"\"Shows a grid of images.\"\"\"\n",
        "  n = int(np.ceil(len(imgs)**.5))\n",
        "  _, axs = plt.subplots(n, n, figsize=(3 * n, 3 * n))\n",
        "  for i, (img, title) in enumerate(zip(imgs, titles)):\n",
        "    show_img(img, axs[i // n][i % n], title)"
      ]
    },
    {
      "cell_type": "code",
      "execution_count": null,
      "metadata": {
        "id": "BRg0rNsJp4ZL",
        "tags": []
      },
      "outputs": [],
      "source": [
        "# Get datasets as dict of JAX arrays.\n",
        "train_ds, test_ds = get_datasets()"
      ]
    },
    {
      "cell_type": "code",
      "execution_count": null,
      "metadata": {
        "id": "B0LgjT3Vp4ZP"
      },
      "outputs": [],
      "source": [
        "show_img_grid(\n",
        "    [train_ds['image'][idx] for idx in range(25)],\n",
        "    [f'label={train_ds[\"label\"][idx]}' for idx in range(25)],\n",
        ")"
      ]
    },
    {
      "cell_type": "markdown",
      "metadata": {
        "id": "KqW8WP5bp4ZS"
      },
      "source": [
        "## Training"
      ]
    },
    {
      "cell_type": "code",
      "execution_count": null,
      "metadata": {
        "id": "KmG9pXPWh7sh"
      },
      "outputs": [],
      "source": [
        "import ml_collections\n",
        "\n",
        "class CNN(nn.Module):\n",
        "  \"\"\"A simple CNN model.\"\"\"\n",
        "\n",
        "  @nn.compact\n",
        "  def __call__(self, x):\n",
        "    x = nn.Conv(features=32, kernel_size=(3, 3))(x)\n",
        "    x = nn.relu(x)\n",
        "    x = nn.avg_pool(x, window_shape=(2, 2), strides=(2, 2))\n",
        "    x = nn.Conv(features=64, kernel_size=(3, 3))(x)\n",
        "    x = nn.relu(x)\n",
        "    x = nn.avg_pool(x, window_shape=(2, 2), strides=(2, 2))\n",
        "    x = x.reshape((x.shape[0], -1))  # flatten\n",
        "    x = nn.Dense(features=256)(x)\n",
        "    x = nn.relu(x)\n",
        "    x = nn.Dense(features=10)(x)\n",
        "    return x\n",
        "\n",
        "\n",
        "@jax.jit\n",
        "def apply_model(state, images, labels):\n",
        "  \"\"\"Computes gradients, loss and accuracy for a single batch.\"\"\"\n",
        "  def loss_fn(params):\n",
        "    logits = state.apply_fn({'params': params}, images)\n",
        "    one_hot = jax.nn.one_hot(labels, 10)\n",
        "    loss = jnp.mean(optax.softmax_cross_entropy(logits=logits, labels=one_hot))\n",
        "    return loss, logits\n",
        "\n",
        "  grad_fn = jax.value_and_grad(loss_fn, has_aux=True)\n",
        "  (loss, logits), grads = grad_fn(state.params)\n",
        "  accuracy = jnp.mean(jnp.argmax(logits, -1) == labels)\n",
        "  return grads, loss, accuracy\n",
        "\n",
        "\n",
        "@jax.jit\n",
        "def update_model(state, grads):\n",
        "  updates, new_opt_state = state.tx.update(\n",
        "      grads, state.opt_state, state.params)\n",
        "  new_params = optax.apply_updates(state.params, updates)\n",
        "  return state.replace(\n",
        "      step=state.step + 1,\n",
        "      params=new_params,\n",
        "      opt_state=new_opt_state)\n",
        "\n",
        "\n",
        "def train_epoch(state, train_ds, batch_size, rng, sparsity_updater):\n",
        "  \"\"\"Train for a single epoch.\"\"\"\n",
        "  train_ds_size = len(train_ds['image'])\n",
        "  steps_per_epoch = train_ds_size // batch_size\n",
        "\n",
        "  perms = jax.random.permutation(rng, len(train_ds['image']))\n",
        "  perms = perms[:steps_per_epoch * batch_size]  # skip incomplete batch\n",
        "  perms = perms.reshape((steps_per_epoch, batch_size))\n",
        "\n",
        "  epoch_loss = []\n",
        "  epoch_accuracy = []\n",
        "  is_ste = isinstance(sparsity_updater, (jaxpruner.SteMagnitudePruning,\n",
        "                                         jaxpruner.SteRandomPruning))\n",
        "  pre_op = jax.jit(sparsity_updater.pre_forward_update)\n",
        "  post_op = jax.jit(sparsity_updater.post_gradient_update)\n",
        "  for i, perm in enumerate(perms):\n",
        "    batch_images = train_ds['image'][perm, ...]\n",
        "    batch_labels = train_ds['label'][perm, ...]\n",
        "    # Following is only needed for STE.\n",
        "    new_params = pre_op(state.params, state.opt_state)\n",
        "    forward_state = state.replace(params=new_params)\n",
        "\n",
        "    grads, loss, accuracy = apply_model(forward_state, batch_images,\n",
        "                                        batch_labels)\n",
        "    state = update_model(state, grads)\n",
        "    post_params = post_op(state.params, state.opt_state)\n",
        "    state = state.replace(params=post_params)\n",
        "    epoch_loss.append(loss)\n",
        "    epoch_accuracy.append(accuracy)\n",
        "    if i % 100 == 0:\n",
        "      if is_ste:\n",
        "        print(jaxpruner.summarize_sparsity(\n",
        "            new_params, only_total_sparsity=True))\n",
        "      else:\n",
        "        print(jaxpruner.summarize_sparsity(\n",
        "            state.params, only_total_sparsity=True))\n",
        "  train_loss = np.mean(epoch_loss)\n",
        "  train_accuracy = np.mean(epoch_accuracy)\n",
        "  return state, train_loss, train_accuracy\n",
        "\n",
        "\n",
        "def create_train_state(rng, config):\n",
        "  \"\"\"Creates initial `TrainState`.\"\"\"\n",
        "  cnn = CNN()\n",
        "  params = cnn.init(rng, jnp.ones([1, 28, 28, 1]))['params']\n",
        "  sparsity_updater = jaxpruner.create_updater_from_config(config.sparsity_config)\n",
        "  tx = optax.sgd(config.learning_rate, config.momentum)\n",
        "  tx = sparsity_updater.wrap_optax(tx)\n",
        "\n",
        "  return train_state.TrainState.create(\n",
        "      apply_fn=cnn.apply, params=params, tx=tx), sparsity_updater\n",
        "\n",
        "\n",
        "import time\n",
        "\n",
        "def train_and_evaluate(config: ml_collections.ConfigDict\n",
        "                       ) -\u003e train_state.TrainState:\n",
        "  \"\"\"Execute model training and evaluation loop.\n",
        "\n",
        "  Args:\n",
        "    config: Hyperparameter configuration for training and evaluation.\n",
        "    workdir: Directory where the tensorboard summaries are written to.\n",
        "\n",
        "  Returns:\n",
        "    The train state (which includes the `.params`).\n",
        "  \"\"\"\n",
        "  train_ds, test_ds = get_datasets()\n",
        "  rng = jax.random.PRNGKey(0)\n",
        "\n",
        "  rng, init_rng = jax.random.split(rng)\n",
        "\n",
        "  state, sparsity_updater = create_train_state(init_rng, config)\n",
        "\n",
        "  for epoch in range(1, config.num_epochs + 1):\n",
        "    s_time = time.time()\n",
        "    rng, input_rng = jax.random.split(rng)\n",
        "    state, train_loss, train_accuracy = train_epoch(state, train_ds,\n",
        "                                                    config.batch_size,\n",
        "                                                    input_rng,\n",
        "                                                    sparsity_updater)\n",
        "    # Following is only needed for STE.\n",
        "    new_params = sparsity_updater.pre_forward_update(\n",
        "        state.params, state.opt_state)\n",
        "    forward_state = state.replace(params=new_params)\n",
        "\n",
        "    _, test_loss, test_accuracy = apply_model(forward_state, test_ds['image'],\n",
        "                                              test_ds['label'])\n",
        "\n",
        "    print(\n",
        "        'epoch:% 3d, train_loss: %.4f, train_accuracy: %.2f, test_loss: %.4f, test_accuracy: %.2f, time: %.2f'\n",
        "        % (epoch, train_loss, train_accuracy * 100, test_loss,\n",
        "           test_accuracy * 100, time.time() - s_time))\n",
        "\n",
        "  return forward_state"
      ]
    },
    {
      "cell_type": "markdown",
      "metadata": {
        "id": "R5za4NrVw40K"
      },
      "source": [
        "# Jaxpruner API"
      ]
    },
    {
      "cell_type": "code",
      "execution_count": null,
      "metadata": {
        "id": "Be-Bn7R6tsz7"
      },
      "outputs": [],
      "source": [
        "jaxpruner.all_algorithm_names()"
      ]
    },
    {
      "cell_type": "code",
      "execution_count": null,
      "metadata": {
        "id": "XMVhTvc0tsM1"
      },
      "outputs": [],
      "source": [
        "config = ml_collections.ConfigDict()\n",
        "\n",
        "config.learning_rate = 0.1\n",
        "config.momentum = 0.9\n",
        "config.batch_size = 128\n",
        "config.num_epochs = 3 # 1 epoch is 468 steps for bs=128\n",
        "\n",
        "config.sparsity_config = ml_collections.ConfigDict()\n",
        "config.sparsity_config.algorithm = 'magnitude'\n",
        "config.sparsity_config.update_freq = 10\n",
        "config.sparsity_config.update_end_step = 1000\n",
        "config.sparsity_config.update_start_step = 200\n",
        "config.sparsity_config.sparsity = 0.95\n",
        "config.sparsity_config.dist_type = 'erk'"
      ]
    },
    {
      "cell_type": "code",
      "execution_count": null,
      "metadata": {
        "id": "NihrDoDm2yAz"
      },
      "outputs": [],
      "source": [
        "jaxpruner.create_updater_from_config(config.sparsity_config)"
      ]
    },
    {
      "cell_type": "code",
      "execution_count": null,
      "metadata": {
        "id": "RHoBUKSkp4ZS",
        "tags": []
      },
      "outputs": [],
      "source": [
        "# 3 epochs trains in 10 seconds in the GPU Colab...\n",
        "\n",
        "state = train_and_evaluate(config)"
      ]
    },
    {
      "cell_type": "markdown",
      "metadata": {
        "id": "droLOMfCliZ8"
      },
      "source": [
        "# One Shot pruning"
      ]
    },
    {
      "cell_type": "code",
      "execution_count": null,
      "metadata": {
        "id": "_prX9QDHmPa1"
      },
      "outputs": [],
      "source": [
        "config.sparsity_config.update_start_step = 0\n",
        "config.sparsity_config.update_end_step = 0\n",
        "config.sparsity_config.skip_gradients=True\n",
        "state = train_and_evaluate(config)"
      ]
    },
    {
      "cell_type": "markdown",
      "metadata": {
        "id": "-mMq2qIuKk-U"
      },
      "source": [
        "# STE"
      ]
    },
    {
      "cell_type": "code",
      "execution_count": null,
      "metadata": {
        "id": "hR114yDYLW8I"
      },
      "outputs": [],
      "source": [
        "# STE also supports gradual pruning schedules.\n",
        "# Here we train weights with sparse forward pass from the start.\n",
        "config.sparsity_config.algorithm = 'magnitude_ste'\n",
        "config.sparsity_config.sparsity = 0.95\n",
        "config.sparsity_config.update_end_step = 0\n",
        "config.sparsity_config.update_start_step = 0\n",
        "config.sparsity_config.dist_type = 'erk'\n",
        "state = train_and_evaluate(config)"
      ]
    },
    {
      "cell_type": "markdown",
      "metadata": {
        "id": "Y7rPvHvyMouE"
      },
      "source": [
        "# Global Pruning"
      ]
    },
    {
      "cell_type": "code",
      "execution_count": null,
      "metadata": {
        "id": "bjTa5fSvMstH"
      },
      "outputs": [],
      "source": [
        "config.sparsity_config.algorithm = 'global_magnitude'\n",
        "config.sparsity_config.update_freq = 10\n",
        "config.sparsity_config.update_end_step = 1000\n",
        "config.sparsity_config.update_start_step = 200\n",
        "config.sparsity_config.sparsity = 0.95\n",
        "config.sparsity_config.dist_type = 'erk'\n",
        "\n",
        "state = train_and_evaluate(config)"
      ]
    },
    {
      "cell_type": "code",
      "execution_count": null,
      "metadata": {
        "id": "iVkUegpfNTBG"
      },
      "outputs": [],
      "source": [
        "jaxpruner.summarize_sparsity(state.opt_state.masks)"
      ]
    },
    {
      "cell_type": "markdown",
      "metadata": {
        "id": "z35houGrNaZR"
      },
      "source": [
        "# Dynamic Sparse Training"
      ]
    },
    {
      "cell_type": "code",
      "execution_count": null,
      "metadata": {
        "id": "Yo6DqrXXNc7J"
      },
      "outputs": [],
      "source": [
        "config.sparsity_config.algorithm = 'rigl'\n",
        "\n",
        "config.sparsity_config.update_freq = 10\n",
        "config.sparsity_config.update_end_step = 1000\n",
        "config.sparsity_config.update_start_step = 1\n",
        "config.sparsity_config.sparsity = 0.95\n",
        "config.sparsity_config.dist_type = 'erk'\n",
        "\n",
        "state = train_and_evaluate(config)"
      ]
    },
    {
      "cell_type": "code",
      "execution_count": null,
      "metadata": {
        "id": "opcu8HK5NsNy"
      },
      "outputs": [],
      "source": [
        "config.sparsity_config.algorithm = 'set'\n",
        "state = train_and_evaluate(config)"
      ]
    },
    {
      "cell_type": "code",
      "execution_count": null,
      "metadata": {
        "id": "VNzNbM4GOF0J"
      },
      "outputs": [],
      "source": [
        "config.sparsity_config.algorithm = 'static_sparse'\n",
        "\n",
        "state = train_and_evaluate(config)"
      ]
    },
    {
      "cell_type": "markdown",
      "metadata": {
        "id": "6rVpOIeDlvyJ"
      },
      "source": [
        "# Pruning After Training"
      ]
    },
    {
      "cell_type": "code",
      "execution_count": null,
      "metadata": {
        "id": "fpZeZRXNlkQf"
      },
      "outputs": [],
      "source": [
        "config.sparsity_config.algorithm = 'no_prune'\n",
        "state = train_and_evaluate(config)"
      ]
    },
    {
      "cell_type": "code",
      "execution_count": null,
      "metadata": {
        "id": "0q8fDRRnlqla"
      },
      "outputs": [],
      "source": [
        "config.sparsity_config.algorithm = 'magnitude'\n",
        "config.sparsity_config.sparsity = 0.9\n",
        "sparsity_updater = jaxpruner.create_updater_from_config(config.sparsity_config)\n",
        "pruned_params, _ = sparsity_updater.instant_sparsify(state.params)\n",
        "print(jaxpruner.summarize_sparsity(pruned_params, only_total_sparsity=True))"
      ]
    },
    {
      "cell_type": "code",
      "execution_count": null,
      "metadata": {
        "id": "_UMvlEqlwcee"
      },
      "outputs": [],
      "source": [
        "_, test_ds = get_datasets()\n",
        "pruned_state = state.replace(params=pruned_params)\n",
        "_, _, test_accuracy  = apply_model(pruned_state, test_ds['image'], test_ds['label'])\n",
        "print(test_accuracy*100)"
      ]
    },
    {
      "cell_type": "markdown",
      "metadata": {
        "id": "EdHqmTATHuJx"
      },
      "source": [
        "# N:M sparsity"
      ]
    },
    {
      "cell_type": "code",
      "execution_count": null,
      "metadata": {
        "id": "6OrndhnkHwYb"
      },
      "outputs": [],
      "source": [
        "config.sparsity_config.algorithm = 'magnitude'\n",
        "config.sparsity_config.sparsity_type = 'nm_1,4'\n",
        "sparsity_updater = jaxpruner.create_updater_from_config(config.sparsity_config)\n",
        "pruned_params, masks = sparsity_updater.instant_sparsify(state.params)\n",
        "print(jaxpruner.summarize_sparsity(pruned_params, only_total_sparsity=True))"
      ]
    },
    {
      "cell_type": "code",
      "execution_count": null,
      "metadata": {
        "id": "kjv8gu_SJeZI"
      },
      "outputs": [],
      "source": [
        "masks['Dense_0']['kernel'][0][:16]"
      ]
    },
    {
      "cell_type": "code",
      "execution_count": null,
      "metadata": {
        "id": "8SL4ASPqHsdw"
      },
      "outputs": [],
      "source": [
        "_, test_ds = get_datasets()\n",
        "pruned_state = state.replace(params=pruned_params)\n",
        "_, _, test_accuracy  = apply_model(pruned_state, test_ds['image'], test_ds['label'])\n",
        "print(test_accuracy*100)"
      ]
    },
    {
      "cell_type": "markdown",
      "metadata": {
        "id": "7tJ-Y0LSJ6b5"
      },
      "source": [
        "# Block Sparsity"
      ]
    },
    {
      "cell_type": "code",
      "execution_count": null,
      "metadata": {
        "id": "l54RegrQJ50D"
      },
      "outputs": [],
      "source": [
        "config.sparsity_config.algorithm = 'magnitude'\n",
        "config.sparsity_config.sparsity = 0.7\n",
        "config.sparsity_config.sparsity_type = 'block_2,2'\n",
        "sparsity_updater = jaxpruner.create_updater_from_config(config.sparsity_config)\n",
        "pruned_params, masks = sparsity_updater.instant_sparsify(state.params)\n",
        "print(jaxpruner.summarize_sparsity(pruned_params, only_total_sparsity=True))"
      ]
    },
    {
      "cell_type": "code",
      "execution_count": null,
      "metadata": {
        "id": "q0vONI48KEaG"
      },
      "outputs": [],
      "source": [
        "masks['Dense_0']['kernel'][:4, :16]"
      ]
    },
    {
      "cell_type": "code",
      "execution_count": null,
      "metadata": {
        "id": "rrNGCVeEJ_Fx"
      },
      "outputs": [],
      "source": [
        "_, test_ds = get_datasets()\n",
        "pruned_state = state.replace(params=pruned_params)\n",
        "_, _, test_accuracy  = apply_model(pruned_state, test_ds['image'], test_ds['label'])\n",
        "print(test_accuracy*100)"
      ]
    }
  ],
  "metadata": {
    "accelerator": "GPU",
    "colab": {
      "last_runtime": {
        "build_target": "//learning/grp/tools/ml_python:ml_notebook",
        "kind": "private"
      },
      "private_outputs": true,
      "provenance": [],
      "toc_visible": true
    },
    "kernelspec": {
      "display_name": "Python 3",
      "name": "python3"
    },
    "language_info": {
      "name": "python"
    },
    "orig_nbformat": 2
  },
  "nbformat": 4,
  "nbformat_minor": 0
}
